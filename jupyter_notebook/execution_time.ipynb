{
 "cells": [
  {
   "cell_type": "markdown",
   "metadata": {},
   "source": [
    "## ADM1F: Execution time \n",
    "\n",
    "Here we calculate the execution time for a sample of size 100. We perturb a certain number of elements in one of the inputs files (e.g. influent.dat, ic.dat, params.dat) by some 'percent' value. We sample perturbed elements 100 times in a non-repeatable fashion using latin hypercube 'lhs' or 'uniform' sampling methods. Then we calculate the execution time 100 times. Note, if you do not have any of the packages used in this script, use `pip install package_name`.\n",
    "\n",
    "Authors: Wenjuan Zhang and Elchin Jafarov"
   ]
  },
  {
   "cell_type": "code",
   "execution_count": 1,
   "metadata": {},
   "outputs": [],
   "source": [
    "import adm1f_utils as adm1fu\n",
    "import os\n",
    "import matplotlib.pyplot as plt\n",
    "%matplotlib inline"
   ]
  },
  {
   "cell_type": "code",
   "execution_count": 2,
   "metadata": {},
   "outputs": [],
   "source": [
    "# navigate to simulations folder\n",
    "os.chdir('../../simulations')"
   ]
  },
  {
   "cell_type": "markdown",
   "metadata": {},
   "source": [
    "**1.** Let's vary elements of the influent.dat"
   ]
  },
  {
   "cell_type": "code",
   "execution_count": 3,
   "metadata": {},
   "outputs": [],
   "source": [
    "#Set the path to the ADM1F executable\n",
    "ADM1F_EXE = '/Users/elchin/project/ADM1F_WM/build/adm1f'\n",
    "\n",
    "# Set the value of percentage and sample size for lhs\n",
    "percent = 0.1 # NOTE: for params percent should be <= 0.05 \n",
    "sample_size = 100\n",
    "variable = 'influent'    # influent/params/ic\n",
    "method = 'lhs'    #'uniform' or 'lhs'"
   ]
  },
  {
   "cell_type": "code",
   "execution_count": 4,
   "metadata": {},
   "outputs": [],
   "source": [
    "#use help command to learn more about create_a_sample_matrix function\n",
    "#help(adm1fu.create_a_sample_matrix)"
   ]
  },
  {
   "cell_type": "code",
   "execution_count": 5,
   "metadata": {},
   "outputs": [
    {
     "name": "stdout",
     "output_type": "stream",
     "text": [
      "Saves a sampling matrix [sample_size,array_size] into var_influent.csv\n",
      "sample_size,array_size:  (100, 11)\n",
      "Each column of the matrix corresponds to a variable perturbed 100 times around its original value \n",
      "var_influent.csv SAVED!\n",
      "\n",
      "Number of elements participated in the sampling: 11\n"
     ]
    }
   ],
   "source": [
    "index=adm1fu.create_a_sample_matrix(variable,method,percent,sample_size)\n",
    "print ()\n",
    "print ('Number of elements participated in the sampling:',len(index))"
   ]
  },
  {
   "cell_type": "code",
   "execution_count": 6,
   "metadata": {},
   "outputs": [
    {
     "name": "stdout",
     "output_type": "stream",
     "text": [
      "All 100 runs were successfully computed\n",
      "outputs_influent.csv SAVED!\n"
     ]
    }
   ],
   "source": [
    "exe_time=adm1fu.adm1f_output_sampling(ADM1F_EXE,variable,index)"
   ]
  },
  {
   "cell_type": "markdown",
   "metadata": {},
   "source": [
    "**Note:** Depending on the computer system configuration, the computational time might vary. "
   ]
  },
  {
   "cell_type": "code",
   "execution_count": 7,
   "metadata": {},
   "outputs": [
    {
     "name": "stdout",
     "output_type": "stream",
     "text": [
      "cumulative time: 23.97 seconds\n",
      "mean time: 0.24 seconds\n",
      "min time: 0.16 seconds\n",
      "max time: 0.34 seconds\n"
     ]
    },
    {
     "data": {
      "image/png": "[encoded data removed]",
      "text/plain": [
       "<Figure size 432x288 with 1 Axes>"
      ]
     },
     "metadata": {
      "needs_background": "light"
     },
     "output_type": "display_data"
    }
   ],
   "source": [
    "def plot_exec_time(exe_time):\n",
    "    plt.plot(exe_time,'*')\n",
    "    plt.axhline(exe_time.mean(),linestyle='--', alpha=0.6,color='green')\n",
    "    plt.xlabel('sample size',fontsize=14)\n",
    "    plt.ylabel('Time [secs]',fontsize=14)\n",
    "    plt.legend(['exec time','mean'])\n",
    "    print('cumulative time:',round(exe_time.sum(),2),'seconds',)\n",
    "    print('mean time:',round(exe_time.mean(),2),'seconds')\n",
    "    print('min time:',round(exe_time.min(),2),'seconds')\n",
    "    print('max time:',round(exe_time.max(),2),'seconds')\n",
    "    ax = plt.gca()\n",
    "    ax.tick_params(axis = 'both', which = 'major', labelsize = 14)\n",
    "\n",
    "plot_exec_time(exe_time)"
   ]
  },
  {
   "cell_type": "markdown",
   "metadata": {},
   "source": [
    "**2.** Let's vary the param.dat elements and compute the execution time."
   ]
  },
  {
   "cell_type": "code",
   "execution_count": 8,
   "metadata": {},
   "outputs": [],
   "source": [
    "# Set the value of percentage and sample size for lhs\n",
    "percent = 0.05 # NOTE: for params percent should be <= 0.05 \n",
    "sample_size = 100\n",
    "variable = 'params'    # influent/params/ic\n",
    "method = 'lhs'    #'uniform' or 'lhs'"
   ]
  },
  {
   "cell_type": "code",
   "execution_count": 9,
   "metadata": {},
   "outputs": [
    {
     "name": "stdout",
     "output_type": "stream",
     "text": [
      "Saves a sampling matrix [sample_size,array_size] into var_params.csv\n",
      "sample_size,array_size:  (100, 92)\n",
      "Each column of the matrix corresponds to a variable perturbed 100 times around its original value \n",
      "var_params.csv SAVED!\n",
      "\n",
      "Number of elements participated in the sampling: 92\n"
     ]
    }
   ],
   "source": [
    "index=adm1fu.create_a_sample_matrix(variable,method,percent,sample_size)\n",
    "print ()\n",
    "print ('Number of elements participated in the sampling:',len(index))"
   ]
  },
  {
   "cell_type": "code",
   "execution_count": 10,
   "metadata": {},
   "outputs": [
    {
     "name": "stdout",
     "output_type": "stream",
     "text": [
      "All 100 runs were successfully computed\n",
      "outputs_params.csv SAVED!\n"
     ]
    }
   ],
   "source": [
    "exe_time=adm1fu.adm1f_output_sampling(ADM1F_EXE,variable,index)"
   ]
  },
  {
   "cell_type": "code",
   "execution_count": 11,
   "metadata": {},
   "outputs": [
    {
     "name": "stdout",
     "output_type": "stream",
     "text": [
      "cumulative time: 20.32 seconds\n",
      "mean time: 0.2 seconds\n",
      "min time: 0.0 seconds\n",
      "max time: 0.34 seconds\n"
     ]
    },
    {
     "data": {
      "image/png": "[encoded data removed]",
      "text/plain": [
       "<Figure size 432x288 with 1 Axes>"
      ]
     },
     "metadata": {
      "needs_background": "light"
     },
     "output_type": "display_data"
    }
   ],
   "source": [
    "plot_exec_time(exe_time)"
   ]
  },
  {
   "cell_type": "code",
   "execution_count": null,
   "metadata": {},
   "outputs": [],
   "source": []
  }
 ],
 "metadata": {
  "kernelspec": {
   "display_name": "Python 3",
   "language": "python",
   "name": "python3"
  },
  "language_info": {
   "codemirror_mode": {
    "name": "ipython",
    "version": 3
   },
   "file_extension": ".py",
   "mimetype": "text/x-python",
   "name": "python",
   "nbconvert_exporter": "python",
   "pygments_lexer": "ipython3",
   "version": "3.8.5"
  },
  "toc": {
   "base_numbering": 1,
   "nav_menu": {},
   "number_sections": true,
   "sideBar": true,
   "skip_h1_title": false,
   "title_cell": "Table of Contents",
   "title_sidebar": "Contents",
   "toc_cell": false,
   "toc_position": {},
   "toc_section_display": true,
   "toc_window_display": true
  }
 },
 "nbformat": 4,
 "nbformat_minor": 2
}
