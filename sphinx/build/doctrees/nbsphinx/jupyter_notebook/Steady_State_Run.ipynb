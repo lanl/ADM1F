{
 "cells": [
  {
   "cell_type": "markdown",
   "metadata": {},
   "source": [
    "## ADM1F: Steady State\n",
    "\n",
    "Here we run the steady state case and comparing it with the Matlab results. Make sure to compile `build/adm1f.cxx`. \n",
    "\n",
    "Author: Elchin Jafarov"
   ]
  },
  {
   "cell_type": "markdown",
   "metadata": {},
   "source": [
    "#### 1. Steady State Run"
   ]
  },
  {
   "cell_type": "code",
   "execution_count": 1,
   "metadata": {},
   "outputs": [],
   "source": [
    "import os\n",
    "import numpy as np\n",
    "import pandas as pd\n",
    "import subprocess\n",
    "import sklearn.metrics as sklm\n",
    "import xlrd\n",
    "import matplotlib.pyplot as plt\n",
    "%matplotlib inline"
   ]
  },
  {
   "cell_type": "code",
   "execution_count": 2,
   "metadata": {},
   "outputs": [],
   "source": [
    "# navigate to simulations folder\n",
    "os.chdir('../../simulations')"
   ]
  },
  {
   "cell_type": "code",
   "execution_count": 3,
   "metadata": {},
   "outputs": [
    {
     "name": "stdout",
     "output_type": "stream",
     "text": [
      "/Users/elchin/project/ADM1F_WM/build/adm1f\r\n"
     ]
    }
   ],
   "source": [
    "# check the path to the executable \n",
    "!echo $ADM1F_EXE"
   ]
  },
  {
   "cell_type": "code",
   "execution_count": 4,
   "metadata": {},
   "outputs": [
    {
     "name": "stdout",
     "output_type": "stream",
     "text": [
      "Vliq [m3] is: 3400.000000\n",
      "Vgas [m3] is: 300.000000\n",
      "Reading parameters in file: params.dat\n",
      "Reading influent values in file: influent.dat\n",
      "Reading initial condition values in file: ic.dat\n",
      "Running as steady state problem.\n",
      "Solving.\n",
      "Done!\n"
     ]
    }
   ],
   "source": [
    "# running the executable in the cell\n",
    "!$ADM1F_EXE -steady"
   ]
  },
  {
   "cell_type": "code",
   "execution_count": 5,
   "metadata": {},
   "outputs": [],
   "source": [
    "# remove the output files\n",
    "!sh clean.sh"
   ]
  },
  {
   "cell_type": "code",
   "execution_count": 6,
   "metadata": {},
   "outputs": [
    {
     "data": {
      "text/plain": [
       "<subprocess.Popen at 0x7f84a4974040>"
      ]
     },
     "execution_count": 6,
     "metadata": {},
     "output_type": "execute_result"
    }
   ],
   "source": [
    "# or run using subprocess \n",
    "subprocess.Popen('$ADM1F_EXE -ts_monitor -steady', shell=True)"
   ]
  },
  {
   "cell_type": "markdown",
   "metadata": {},
   "source": [
    "If the run is successful then `indicator-***.out` should be saved in the `simulations` folder. Here take the last time step saved in the last indicator file (`indicator-062.out`). The accending numeration of the output files corresponds to the time iterations taken towards the steady state condition.   "
   ]
  },
  {
   "cell_type": "markdown",
   "metadata": {},
   "source": [
    "#### 2. Comparison of the ADM1F (C++) with ADM1 (Matlab)\n",
    "\n",
    "The ADM1F runs much faster than the corresponding Matlab version. The main difference between C++ and the Matlab versions of the model is that ADM1F uses optimized solvers from the PETCS package to solve the corresponding mass balance equations. The ADM1F allows usage of the diffrent solvers. The ADM1(Matlab) is using ode45 nonstiff differential equation solver that cannot be changed. Below we benchmark ADM1F(C++) outputs with the ADM1(Matlab). "
   ]
  },
  {
   "cell_type": "code",
   "execution_count": 7,
   "metadata": {},
   "outputs": [],
   "source": [
    "# read the output produced by ADM1(Matlab) from the xls file\n",
    "wb = xlrd.open_workbook('../docs/jupyter_notebook/out_sludge.xls')\n",
    "sheet = wb.sheet_by_index(1)\n",
    "results_matlab = [sheet.cell_value(4,i) for i in range(66)]"
   ]
  },
  {
   "cell_type": "markdown",
   "metadata": {},
   "source": [
    "load the last file from the steady runs and compare it with the Matlab output. "
   ]
  },
  {
   "cell_type": "code",
   "execution_count": 8,
   "metadata": {},
   "outputs": [],
   "source": [
    "results_c=np.loadtxt('indicator-062.out', skiprows=2, unpack=True)"
   ]
  },
  {
   "cell_type": "code",
   "execution_count": 9,
   "metadata": {},
   "outputs": [
    {
     "data": {
      "text/html": [
       "<div>\n",
       "<style scoped>\n",
       "    .dataframe tbody tr th:only-of-type {\n",
       "        vertical-align: middle;\n",
       "    }\n",
       "\n",
       "    .dataframe tbody tr th {\n",
       "        vertical-align: top;\n",
       "    }\n",
       "\n",
       "    .dataframe thead th {\n",
       "        text-align: right;\n",
       "    }\n",
       "</style>\n",
       "<table border=\"1\" class=\"dataframe\">\n",
       "  <thead>\n",
       "    <tr style=\"text-align: right;\">\n",
       "      <th></th>\n",
       "      <th>Matlab</th>\n",
       "      <th>C++</th>\n",
       "    </tr>\n",
       "  </thead>\n",
       "  <tbody>\n",
       "    <tr>\n",
       "      <th>0</th>\n",
       "      <td>10.116210</td>\n",
       "      <td>10.11620</td>\n",
       "    </tr>\n",
       "    <tr>\n",
       "      <th>1</th>\n",
       "      <td>4.529384</td>\n",
       "      <td>4.52938</td>\n",
       "    </tr>\n",
       "    <tr>\n",
       "      <th>2</th>\n",
       "      <td>83.095031</td>\n",
       "      <td>83.09500</td>\n",
       "    </tr>\n",
       "    <tr>\n",
       "      <th>3</th>\n",
       "      <td>9.171951</td>\n",
       "      <td>9.17149</td>\n",
       "    </tr>\n",
       "    <tr>\n",
       "      <th>4</th>\n",
       "      <td>11.824647</td>\n",
       "      <td>11.82410</td>\n",
       "    </tr>\n",
       "  </tbody>\n",
       "</table>\n",
       "</div>"
      ],
      "text/plain": [
       "      Matlab       C++\n",
       "0  10.116210  10.11620\n",
       "1   4.529384   4.52938\n",
       "2  83.095031  83.09500\n",
       "3   9.171951   9.17149\n",
       "4  11.824647  11.82410"
      ]
     },
     "execution_count": 9,
     "metadata": {},
     "output_type": "execute_result"
    }
   ],
   "source": [
    "res = pd.DataFrame({\n",
    "    \"Matlab\": np.asarray(results_matlab),\n",
    "    \"C++\": np.asarray(results_c[:-1])})\n",
    "res.head()"
   ]
  },
  {
   "cell_type": "code",
   "execution_count": 10,
   "metadata": {},
   "outputs": [
    {
     "data": {
      "image/png": "[encoded data removed]",
      "text/plain": [
       "<Figure size 432x288 with 1 Axes>"
      ]
     },
     "metadata": {
      "needs_background": "light"
     },
     "output_type": "display_data"
    }
   ],
   "source": [
    "plt.plot(res['Matlab']-res['C++'],linewidth=2)\n",
    "plt.xlabel('Number of outputs',fontsize=14)\n",
    "plt.ylabel('Difference ',fontsize=14);\n",
    "plt.title('res[Matlab]-res[C++]',fontsize=14)\n",
    "plt.xlim([0,60]);"
   ]
  },
  {
   "cell_type": "code",
   "execution_count": 11,
   "metadata": {},
   "outputs": [
    {
     "name": "stdout",
     "output_type": "stream",
     "text": [
      "MAE: 0.0136\n",
      "RMSE: 0.0014\n",
      "R2 Score: 1.0\n"
     ]
    }
   ],
   "source": [
    "rmse=sklm.mean_squared_error(res['Matlab'],res['C++'])\n",
    "mae=sklm.mean_absolute_error(res['Matlab'],res['C++'])\n",
    "r2=sklm.r2_score(res['Matlab'],res['C++'])\n",
    "print('MAE:',round(mae,4))\n",
    "print('RMSE:',round(rmse,4))\n",
    "print('R2 Score:',round(r2,4))"
   ]
  }
 ],
 "metadata": {
  "kernelspec": {
   "display_name": "Python 3",
   "language": "python",
   "name": "python3"
  },
  "language_info": {
   "codemirror_mode": {
    "name": "ipython",
    "version": 3
   },
   "file_extension": ".py",
   "mimetype": "text/x-python",
   "name": "python",
   "nbconvert_exporter": "python",
   "pygments_lexer": "ipython3",
   "version": "3.8.5"
  }
 },
 "nbformat": 4,
 "nbformat_minor": 1
}
