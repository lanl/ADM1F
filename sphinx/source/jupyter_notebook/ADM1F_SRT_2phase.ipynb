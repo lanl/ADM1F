{
 "cells": [
  {
   "cell_type": "markdown",
   "metadata": {},
   "source": [
    "## ADM1F SRT: single tank and two-phase anaerobic dynamic membrane bioreactor\n",
    "\n",
    "This script is used to simulate a single tank suspended anaerobic dynamic membrane digester and a novel two-phase anaerobic dynamic membrane bioreator with separated SRT and HRT. In the two-phase reactor the effluent (model output) from the first phase dynamic membrane bioreactor is converted to the influent (model input) for the second-phase anaerobic dynamic membrane bioreactor as shown in the figure."
   ]
  },
  {
   "cell_type": "markdown",
   "metadata": {},
   "source": [
    "**Note:** Before running the ADM1F SRT simulations see intructions on how to compile `adm1f_srt.cxx` in the User Guide.\n",
    "\n",
    "\n",
    "**Mass balance equation with SRT:**\n",
    "\n",
    "The ADM1 and ADM1F solve the mass balance equation (i.e. mass_change = mass_in – mass_out + reaction). ADM1F_SRT version of the model includes solid retention time  ($t_{res,X}$) as shown in the equation below. \n",
    "\n",
    "$$\n",
    "\\frac{d\\, S_{\\text{liq,i}}}{dt} = \\frac{qS_{\\text{in,i}}}{V_{\\text{liq}}} - \\frac{qS_{\\text{liq,i}} }{V_{\\text{liq}}}+ \\sum_{j=1}^{12}\\rho_{j} v_{i,j}\n",
    "$$\n",
    "\n",
    "$$\n",
    "\\frac{d\\, X_{\\text{liq,i}}}{dt} = \\frac{qX_{\\text{in,i}}}{V_{\\text{liq}}} - \\frac{X_{\\text{liq,i}}}{t_{\\text{res,X}} + V_{\\text{liq}}/q} + \\sum_{j=13}^{24}\\rho_{j} v_{i,j}\n",
    "$$\n",
    "\n",
    "Authors: Wenjuan Zhang, Elchin Jafarov, Kuang Zhu"
   ]
  },
  {
   "cell_type": "code",
   "execution_count": 1,
   "metadata": {
    "ExecuteTime": {
     "end_time": "2020-09-22T22:41:31.196813Z",
     "start_time": "2020-09-22T22:41:29.366849Z"
    },
    "code_folding": []
   },
   "outputs": [],
   "source": [
    "# Load packages\n",
    "import numpy as np\n",
    "import pandas as pd\n",
    "import os\n",
    "import seaborn as sns\n",
    "import adm1f_utils as adm1fu\n",
    "import matplotlib.pyplot as plt\n",
    "%matplotlib inline"
   ]
  },
  {
   "cell_type": "code",
   "execution_count": 2,
   "metadata": {},
   "outputs": [],
   "source": [
    "# navigate to simulations folder\n",
    "os.chdir('../../simulations')"
   ]
  },
  {
   "cell_type": "code",
   "execution_count": 3,
   "metadata": {
    "ExecuteTime": {
     "end_time": "2020-09-22T22:41:42.100135Z",
     "start_time": "2020-09-22T22:41:31.231830Z"
    },
    "code_folding": []
   },
   "outputs": [],
   "source": [
    "# Grab the names and unit of all the outputs\n",
    "(output_name,output_unit)=adm1fu.get_output_names()"
   ]
  },
  {
   "cell_type": "code",
   "execution_count": 4,
   "metadata": {},
   "outputs": [
    {
     "name": "stdout",
     "output_type": "stream",
     "text": [
      "/Users/elchin/project/ADM1F_WM/build/adm1f\r\n"
     ]
    }
   ],
   "source": [
    "#check the path to the executable\n",
    "!echo $ADM1F_EXE"
   ]
  },
  {
   "cell_type": "markdown",
   "metadata": {},
   "source": [
    "### Single tank anaerobic dynamic membrane bioreactor (AnDMBR)\n",
    "\n",
    "To simulate the single tank AnDMBR that has separated SRT and HRT, We can call the function`reactor1` with different Q (flow-rate), Vliq (reactor volume), t_resx (SRT-HRT) values, the function will return the corresponding output\n",
    "\n",
    "Usage example: reactor1(Q=100, t_resx=30, Vliq=300) \n",
    "\n",
    "**(Unit)** Q: [m3/d], t_resx: [day], Vliq: [m3]"
   ]
  },
  {
   "cell_type": "code",
   "execution_count": 5,
   "metadata": {
    "ExecuteTime": {
     "end_time": "2020-09-22T22:43:01.349288Z",
     "start_time": "2020-09-22T22:43:01.343864Z"
    },
    "code_folding": []
   },
   "outputs": [
    {
     "name": "stdout",
     "output_type": "stream",
     "text": [
      "Reactor run, phase-one:\n",
      "$ADM1F_EXE -ts_type beuler -ts_adapt_type basic -ts_max_snes_failures -1 -steady -Vliq 300 -t_resx 0 -influent_file influent_cur.dat\n",
      "indicator-228.out\n",
      "Reactor run, phase-one:\n",
      "$ADM1F_EXE -ts_type beuler -ts_adapt_type basic -ts_max_snes_failures -1 -steady -Vliq 300 -t_resx 1 -influent_file influent_cur.dat\n",
      "indicator-307.out\n",
      "Reactor run, phase-one:\n",
      "$ADM1F_EXE -ts_type beuler -ts_adapt_type basic -ts_max_snes_failures -1 -steady -Vliq 300 -t_resx 2 -influent_file influent_cur.dat\n",
      "indicator-437.out\n",
      "Reactor run, phase-one:\n",
      "$ADM1F_EXE -ts_type beuler -ts_adapt_type basic -ts_max_snes_failures -1 -steady -Vliq 300 -t_resx 3 -influent_file influent_cur.dat\n",
      "indicator-563.out\n",
      "Reactor run, phase-one:\n",
      "$ADM1F_EXE -ts_type beuler -ts_adapt_type basic -ts_max_snes_failures -1 -steady -Vliq 300 -t_resx 4 -influent_file influent_cur.dat\n",
      "indicator-522.out\n",
      "Reactor run, phase-one:\n",
      "$ADM1F_EXE -ts_type beuler -ts_adapt_type basic -ts_max_snes_failures -1 -steady -Vliq 300 -t_resx 5 -influent_file influent_cur.dat\n",
      "indicator-517.out\n",
      "Reactor run, phase-one:\n",
      "$ADM1F_EXE -ts_type beuler -ts_adapt_type basic -ts_max_snes_failures -1 -steady -Vliq 300 -t_resx 6 -influent_file influent_cur.dat\n",
      "indicator-534.out\n",
      "Reactor run, phase-one:\n",
      "$ADM1F_EXE -ts_type beuler -ts_adapt_type basic -ts_max_snes_failures -1 -steady -Vliq 300 -t_resx 7 -influent_file influent_cur.dat\n",
      "indicator-542.out\n",
      "Reactor run, phase-one:\n",
      "$ADM1F_EXE -ts_type beuler -ts_adapt_type basic -ts_max_snes_failures -1 -steady -Vliq 300 -t_resx 8 -influent_file influent_cur.dat\n",
      "indicator-556.out\n",
      "Reactor run, phase-one:\n",
      "$ADM1F_EXE -ts_type beuler -ts_adapt_type basic -ts_max_snes_failures -1 -steady -Vliq 300 -t_resx 9 -influent_file influent_cur.dat\n",
      "indicator-576.out\n"
     ]
    }
   ],
   "source": [
    "# testing different SRTs=[0,1,2,...9] on the one-phase reactor\n",
    "resx_list = [i for i in range(10)]\n",
    "# setup the matrix with columns correspoding SRTs and rows to outputs\n",
    "output1_resx = np.zeros((len(resx_list), 67))\n",
    "# here we utilize back euler solver and adataptive time step\n",
    "# for more command options see \"User Guide/Running ADM1F/step 5\"\n",
    "options='-ts_type beuler -ts_adapt_type basic -ts_max_snes_failures -1 -steady'\n",
    "\n",
    "for i in range(len(resx_list)):\n",
    "    output1_resx[i] = adm1fu.reactor1(opt=options, Vliq=300, Q=600, t_resx=resx_list[i])\n",
    "    \n",
    "np.savetxt('output_1phase.csv',output1_resx,delimiter=',',fmt='%1.4e')"
   ]
  },
  {
   "cell_type": "code",
   "execution_count": 6,
   "metadata": {
    "ExecuteTime": {
     "end_time": "2020-09-22T22:43:13.547934Z",
     "start_time": "2020-09-22T22:43:13.481493Z"
    }
   },
   "outputs": [],
   "source": [
    "df1_resx = pd.read_csv('output_1phase.csv', sep=',', header=None)\n",
    "df1_resx.columns = output_name  \n",
    "df1_resx.insert(0,\"T_resx\",resx_list)"
   ]
  },
  {
   "cell_type": "markdown",
   "metadata": {},
   "source": [
    "**Relation between t_resx and output when Vliq=300m3, Q=600m3/d**</font>"
   ]
  },
  {
   "cell_type": "code",
   "execution_count": 7,
   "metadata": {
    "ExecuteTime": {
     "end_time": "2020-09-22T22:43:41.970938Z",
     "start_time": "2020-09-22T22:43:41.906442Z"
    }
   },
   "outputs": [
    {
     "data": {
      "text/html": [
       "<div>\n",
       "<style scoped>\n",
       "    .dataframe tbody tr th:only-of-type {\n",
       "        vertical-align: middle;\n",
       "    }\n",
       "\n",
       "    .dataframe tbody tr th {\n",
       "        vertical-align: top;\n",
       "    }\n",
       "\n",
       "    .dataframe thead th {\n",
       "        text-align: right;\n",
       "    }\n",
       "</style>\n",
       "<table border=\"1\" class=\"dataframe\">\n",
       "  <thead>\n",
       "    <tr style=\"text-align: right;\">\n",
       "      <th></th>\n",
       "      <th>T_resx</th>\n",
       "      <th>Ssu</th>\n",
       "      <th>Saa</th>\n",
       "      <th>Sfa</th>\n",
       "      <th>Sva</th>\n",
       "      <th>Sbu</th>\n",
       "      <th>Spro</th>\n",
       "      <th>Sac</th>\n",
       "      <th>Sh2</th>\n",
       "      <th>Sch4</th>\n",
       "      <th>...</th>\n",
       "      <th>Alk</th>\n",
       "      <th>NH3</th>\n",
       "      <th>NH4</th>\n",
       "      <th>LCFA</th>\n",
       "      <th>percentch4</th>\n",
       "      <th>energych4</th>\n",
       "      <th>efficiency</th>\n",
       "      <th>VFA/ALK</th>\n",
       "      <th>ACN</th>\n",
       "      <th>sampleT</th>\n",
       "    </tr>\n",
       "  </thead>\n",
       "  <tbody>\n",
       "    <tr>\n",
       "      <th>0</th>\n",
       "      <td>0</td>\n",
       "      <td>2152.800</td>\n",
       "      <td>324.2700</td>\n",
       "      <td>7382.70</td>\n",
       "      <td>2381.700</td>\n",
       "      <td>3667.300</td>\n",
       "      <td>2542.700</td>\n",
       "      <td>8263.5</td>\n",
       "      <td>25.643000</td>\n",
       "      <td>-8.963700e-82</td>\n",
       "      <td>...</td>\n",
       "      <td>44957.0</td>\n",
       "      <td>0.053067</td>\n",
       "      <td>1074.00</td>\n",
       "      <td>7382.70</td>\n",
       "      <td>-1.133000e-81</td>\n",
       "      <td>83.808</td>\n",
       "      <td>3.9774</td>\n",
       "      <td>0.351490</td>\n",
       "      <td>-3.203400e-72</td>\n",
       "      <td>0.5</td>\n",
       "    </tr>\n",
       "    <tr>\n",
       "      <th>1</th>\n",
       "      <td>1</td>\n",
       "      <td>123.060</td>\n",
       "      <td>49.1670</td>\n",
       "      <td>7751.20</td>\n",
       "      <td>2574.400</td>\n",
       "      <td>4202.900</td>\n",
       "      <td>3244.500</td>\n",
       "      <td>9600.7</td>\n",
       "      <td>30.352000</td>\n",
       "      <td>3.859800e-12</td>\n",
       "      <td>...</td>\n",
       "      <td>59182.0</td>\n",
       "      <td>0.047701</td>\n",
       "      <td>1135.60</td>\n",
       "      <td>7751.20</td>\n",
       "      <td>1.599000e-12</td>\n",
       "      <td>100.630</td>\n",
       "      <td>-76.4800</td>\n",
       "      <td>0.310840</td>\n",
       "      <td>1.255000e-08</td>\n",
       "      <td>0.5</td>\n",
       "    </tr>\n",
       "    <tr>\n",
       "      <th>2</th>\n",
       "      <td>2</td>\n",
       "      <td>63.057</td>\n",
       "      <td>26.6380</td>\n",
       "      <td>7839.00</td>\n",
       "      <td>2610.000</td>\n",
       "      <td>4268.600</td>\n",
       "      <td>3305.000</td>\n",
       "      <td>9742.9</td>\n",
       "      <td>30.772000</td>\n",
       "      <td>1.129100e-09</td>\n",
       "      <td>...</td>\n",
       "      <td>61421.0</td>\n",
       "      <td>0.048208</td>\n",
       "      <td>1150.90</td>\n",
       "      <td>7839.00</td>\n",
       "      <td>4.600500e-10</td>\n",
       "      <td>102.210</td>\n",
       "      <td>-155.0200</td>\n",
       "      <td>0.304150</td>\n",
       "      <td>2.832600e-07</td>\n",
       "      <td>0.5</td>\n",
       "    </tr>\n",
       "    <tr>\n",
       "      <th>3</th>\n",
       "      <td>3</td>\n",
       "      <td>39.313</td>\n",
       "      <td>17.3450</td>\n",
       "      <td>908.19</td>\n",
       "      <td>41.129</td>\n",
       "      <td>54.118</td>\n",
       "      <td>53.411</td>\n",
       "      <td>3339.7</td>\n",
       "      <td>0.000662</td>\n",
       "      <td>2.574900e+02</td>\n",
       "      <td>...</td>\n",
       "      <td>16289.0</td>\n",
       "      <td>2.513100</td>\n",
       "      <td>963.03</td>\n",
       "      <td>908.19</td>\n",
       "      <td>5.579800e+01</td>\n",
       "      <td>209.370</td>\n",
       "      <td>-218.4400</td>\n",
       "      <td>0.200760</td>\n",
       "      <td>9.097200e+00</td>\n",
       "      <td>0.5</td>\n",
       "    </tr>\n",
       "    <tr>\n",
       "      <th>4</th>\n",
       "      <td>4</td>\n",
       "      <td>30.634</td>\n",
       "      <td>13.5750</td>\n",
       "      <td>457.19</td>\n",
       "      <td>30.592</td>\n",
       "      <td>39.989</td>\n",
       "      <td>35.895</td>\n",
       "      <td>3066.6</td>\n",
       "      <td>0.000515</td>\n",
       "      <td>2.653300e+02</td>\n",
       "      <td>...</td>\n",
       "      <td>18846.0</td>\n",
       "      <td>3.157300</td>\n",
       "      <td>963.70</td>\n",
       "      <td>457.19</td>\n",
       "      <td>5.623900e+01</td>\n",
       "      <td>214.510</td>\n",
       "      <td>-304.2100</td>\n",
       "      <td>0.157850</td>\n",
       "      <td>1.324200e+01</td>\n",
       "      <td>0.5</td>\n",
       "    </tr>\n",
       "    <tr>\n",
       "      <th>5</th>\n",
       "      <td>5</td>\n",
       "      <td>25.261</td>\n",
       "      <td>11.2240</td>\n",
       "      <td>309.53</td>\n",
       "      <td>24.543</td>\n",
       "      <td>31.958</td>\n",
       "      <td>27.254</td>\n",
       "      <td>2856.4</td>\n",
       "      <td>0.000424</td>\n",
       "      <td>2.695900e+02</td>\n",
       "      <td>...</td>\n",
       "      <td>21320.0</td>\n",
       "      <td>3.693300</td>\n",
       "      <td>966.73</td>\n",
       "      <td>309.53</td>\n",
       "      <td>5.648800e+01</td>\n",
       "      <td>217.230</td>\n",
       "      <td>-390.0200</td>\n",
       "      <td>0.129290</td>\n",
       "      <td>1.778600e+01</td>\n",
       "      <td>0.5</td>\n",
       "    </tr>\n",
       "    <tr>\n",
       "      <th>6</th>\n",
       "      <td>6</td>\n",
       "      <td>21.606</td>\n",
       "      <td>9.6181</td>\n",
       "      <td>236.08</td>\n",
       "      <td>20.615</td>\n",
       "      <td>26.775</td>\n",
       "      <td>22.111</td>\n",
       "      <td>2685.8</td>\n",
       "      <td>0.000362</td>\n",
       "      <td>2.726300e+02</td>\n",
       "      <td>...</td>\n",
       "      <td>23721.0</td>\n",
       "      <td>4.147800</td>\n",
       "      <td>970.17</td>\n",
       "      <td>236.08</td>\n",
       "      <td>5.666900e+01</td>\n",
       "      <td>219.140</td>\n",
       "      <td>-475.6200</td>\n",
       "      <td>0.108900</td>\n",
       "      <td>2.278900e+01</td>\n",
       "      <td>0.5</td>\n",
       "    </tr>\n",
       "    <tr>\n",
       "      <th>7</th>\n",
       "      <td>7</td>\n",
       "      <td>18.960</td>\n",
       "      <td>8.4513</td>\n",
       "      <td>192.13</td>\n",
       "      <td>17.859</td>\n",
       "      <td>23.153</td>\n",
       "      <td>18.702</td>\n",
       "      <td>2543.7</td>\n",
       "      <td>0.000317</td>\n",
       "      <td>2.750200e+02</td>\n",
       "      <td>...</td>\n",
       "      <td>26050.0</td>\n",
       "      <td>4.540600</td>\n",
       "      <td>973.69</td>\n",
       "      <td>192.13</td>\n",
       "      <td>5.681200e+01</td>\n",
       "      <td>220.630</td>\n",
       "      <td>-560.8900</td>\n",
       "      <td>0.093693</td>\n",
       "      <td>2.825000e+01</td>\n",
       "      <td>0.5</td>\n",
       "    </tr>\n",
       "    <tr>\n",
       "      <th>8</th>\n",
       "      <td>8</td>\n",
       "      <td>16.955</td>\n",
       "      <td>7.5652</td>\n",
       "      <td>162.87</td>\n",
       "      <td>15.818</td>\n",
       "      <td>20.479</td>\n",
       "      <td>16.276</td>\n",
       "      <td>2423.2</td>\n",
       "      <td>0.000284</td>\n",
       "      <td>2.770000e+02</td>\n",
       "      <td>...</td>\n",
       "      <td>28311.0</td>\n",
       "      <td>4.885500</td>\n",
       "      <td>977.21</td>\n",
       "      <td>162.87</td>\n",
       "      <td>5.692900e+01</td>\n",
       "      <td>221.870</td>\n",
       "      <td>-645.8400</td>\n",
       "      <td>0.081984</td>\n",
       "      <td>3.416600e+01</td>\n",
       "      <td>0.5</td>\n",
       "    </tr>\n",
       "    <tr>\n",
       "      <th>9</th>\n",
       "      <td>9</td>\n",
       "      <td>15.383</td>\n",
       "      <td>6.8691</td>\n",
       "      <td>141.96</td>\n",
       "      <td>14.244</td>\n",
       "      <td>18.422</td>\n",
       "      <td>14.462</td>\n",
       "      <td>2319.3</td>\n",
       "      <td>0.000257</td>\n",
       "      <td>2.786900e+02</td>\n",
       "      <td>...</td>\n",
       "      <td>30505.0</td>\n",
       "      <td>5.192300</td>\n",
       "      <td>980.68</td>\n",
       "      <td>141.96</td>\n",
       "      <td>5.702800e+01</td>\n",
       "      <td>222.920</td>\n",
       "      <td>-730.4900</td>\n",
       "      <td>0.072728</td>\n",
       "      <td>4.053400e+01</td>\n",
       "      <td>0.5</td>\n",
       "    </tr>\n",
       "  </tbody>\n",
       "</table>\n",
       "<p>10 rows × 68 columns</p>\n",
       "</div>"
      ],
      "text/plain": [
       "   T_resx      Ssu       Saa      Sfa       Sva       Sbu      Spro     Sac   \\\n",
       "0       0  2152.800  324.2700  7382.70  2381.700  3667.300  2542.700  8263.5   \n",
       "1       1   123.060   49.1670  7751.20  2574.400  4202.900  3244.500  9600.7   \n",
       "2       2    63.057   26.6380  7839.00  2610.000  4268.600  3305.000  9742.9   \n",
       "3       3    39.313   17.3450   908.19    41.129    54.118    53.411  3339.7   \n",
       "4       4    30.634   13.5750   457.19    30.592    39.989    35.895  3066.6   \n",
       "5       5    25.261   11.2240   309.53    24.543    31.958    27.254  2856.4   \n",
       "6       6    21.606    9.6181   236.08    20.615    26.775    22.111  2685.8   \n",
       "7       7    18.960    8.4513   192.13    17.859    23.153    18.702  2543.7   \n",
       "8       8    16.955    7.5652   162.87    15.818    20.479    16.276  2423.2   \n",
       "9       9    15.383    6.8691   141.96    14.244    18.422    14.462  2319.3   \n",
       "\n",
       "        Sh2          Sch4   ...     Alk       NH3      NH4     LCFA   \\\n",
       "0  25.643000 -8.963700e-82  ...  44957.0  0.053067  1074.00  7382.70   \n",
       "1  30.352000  3.859800e-12  ...  59182.0  0.047701  1135.60  7751.20   \n",
       "2  30.772000  1.129100e-09  ...  61421.0  0.048208  1150.90  7839.00   \n",
       "3   0.000662  2.574900e+02  ...  16289.0  2.513100   963.03   908.19   \n",
       "4   0.000515  2.653300e+02  ...  18846.0  3.157300   963.70   457.19   \n",
       "5   0.000424  2.695900e+02  ...  21320.0  3.693300   966.73   309.53   \n",
       "6   0.000362  2.726300e+02  ...  23721.0  4.147800   970.17   236.08   \n",
       "7   0.000317  2.750200e+02  ...  26050.0  4.540600   973.69   192.13   \n",
       "8   0.000284  2.770000e+02  ...  28311.0  4.885500   977.21   162.87   \n",
       "9   0.000257  2.786900e+02  ...  30505.0  5.192300   980.68   141.96   \n",
       "\n",
       "    percentch4    energych4   efficiency   VFA/ALK           ACN  sampleT  \n",
       "0 -1.133000e-81       83.808      3.9774  0.351490 -3.203400e-72      0.5  \n",
       "1  1.599000e-12      100.630    -76.4800  0.310840  1.255000e-08      0.5  \n",
       "2  4.600500e-10      102.210   -155.0200  0.304150  2.832600e-07      0.5  \n",
       "3  5.579800e+01      209.370   -218.4400  0.200760  9.097200e+00      0.5  \n",
       "4  5.623900e+01      214.510   -304.2100  0.157850  1.324200e+01      0.5  \n",
       "5  5.648800e+01      217.230   -390.0200  0.129290  1.778600e+01      0.5  \n",
       "6  5.666900e+01      219.140   -475.6200  0.108900  2.278900e+01      0.5  \n",
       "7  5.681200e+01      220.630   -560.8900  0.093693  2.825000e+01      0.5  \n",
       "8  5.692900e+01      221.870   -645.8400  0.081984  3.416600e+01      0.5  \n",
       "9  5.702800e+01      222.920   -730.4900  0.072728  4.053400e+01      0.5  \n",
       "\n",
       "[10 rows x 68 columns]"
      ]
     },
     "execution_count": 7,
     "metadata": {},
     "output_type": "execute_result"
    }
   ],
   "source": [
    "# check the results with increasing T_resx, we should expect decrease in Ssu\n",
    "df1_resx"
   ]
  },
  {
   "cell_type": "code",
   "execution_count": 8,
   "metadata": {
    "ExecuteTime": {
     "end_time": "2020-09-22T22:43:49.427644Z",
     "start_time": "2020-09-22T22:43:48.218696Z"
    },
    "code_folding": [
     0
    ]
   },
   "outputs": [
    {
     "data": {
      "image/png": "[encoded data removed]",
      "text/plain": [
       "<Figure size 1728x72 with 2 Axes>"
      ]
     },
     "metadata": {
      "needs_background": "light"
     },
     "output_type": "display_data"
    }
   ],
   "source": [
    "# correlation between SRT and output\n",
    "plt.figure(figsize=(24,1))\n",
    "corr1=df1_resx.corr()\n",
    "sns.heatmap(corr1.iloc[0:1,-67:], xticklabels=df1_resx.columns[-67:], yticklabels=df1_resx.columns[0:1], cmap=sns.diverging_palette(220, 10, as_cmap=True))\n",
    "plt.title('Correlation Matrix [t_resx/results]',fontsize=20);"
   ]
  },
  {
   "cell_type": "markdown",
   "metadata": {},
   "source": [
    "**Configurations**\n",
    "\n",
    "| Configuration |  Vliq (m$^3$) | t\\_resx (d) | Q (m$^3$/d)|  \n",
    "| ------ | ------ | ------ | ------|\n",
    "Sherri's | 3400 | 0 | 134 |\n",
    "Phase 1 | 340 | 1.5 | 618 |\n",
    "Phase 2 | 3400 | 700 | 618/--- |\n",
    "\n",
    "where t\\_resx = SRT - HRT"
   ]
  },
  {
   "cell_type": "code",
   "execution_count": 9,
   "metadata": {
    "ExecuteTime": {
     "end_time": "2020-09-22T22:44:08.135447Z",
     "start_time": "2020-09-22T22:44:08.128013Z"
    }
   },
   "outputs": [],
   "source": [
    "config_default = {'Vliq':3400, 't_resx':0, 'Q':134}\n",
    "config1 = {'Vliq':340, 't_resx':1.5, 'Q':618}\n",
    "config2 = {'Vliq':3400, 't_resx':700, 'Q':618}"
   ]
  },
  {
   "cell_type": "markdown",
   "metadata": {},
   "source": [
    "#### Default Configuration"
   ]
  },
  {
   "cell_type": "code",
   "execution_count": 10,
   "metadata": {
    "ExecuteTime": {
     "end_time": "2020-09-22T22:44:10.150873Z",
     "start_time": "2020-09-22T22:44:09.462343Z"
    }
   },
   "outputs": [
    {
     "name": "stdout",
     "output_type": "stream",
     "text": [
      "Reactor run, phase-one:\n",
      "$ADM1F_EXE  -Vliq 3400 -t_resx 0 -influent_file influent_cur.dat\n",
      "indicator-034.out\n"
     ]
    },
    {
     "data": {
      "text/html": [
       "<div>\n",
       "<style scoped>\n",
       "    .dataframe tbody tr th:only-of-type {\n",
       "        vertical-align: middle;\n",
       "    }\n",
       "\n",
       "    .dataframe tbody tr th {\n",
       "        vertical-align: top;\n",
       "    }\n",
       "\n",
       "    .dataframe thead th {\n",
       "        text-align: right;\n",
       "    }\n",
       "</style>\n",
       "<table border=\"1\" class=\"dataframe\">\n",
       "  <thead>\n",
       "    <tr style=\"text-align: right;\">\n",
       "      <th></th>\n",
       "      <th>Ssu</th>\n",
       "      <th>Saa</th>\n",
       "      <th>Sfa</th>\n",
       "      <th>Sva</th>\n",
       "      <th>Sbu</th>\n",
       "      <th>Spro</th>\n",
       "      <th>Sac</th>\n",
       "      <th>Sh2</th>\n",
       "      <th>Sch4</th>\n",
       "      <th>Sic</th>\n",
       "      <th>...</th>\n",
       "      <th>Alk</th>\n",
       "      <th>NH3</th>\n",
       "      <th>NH4</th>\n",
       "      <th>LCFA</th>\n",
       "      <th>percentch4</th>\n",
       "      <th>energych4</th>\n",
       "      <th>efficiency</th>\n",
       "      <th>VFA/ALK</th>\n",
       "      <th>ACN</th>\n",
       "      <th>sampleT</th>\n",
       "    </tr>\n",
       "  </thead>\n",
       "  <tbody>\n",
       "    <tr>\n",
       "      <th>Sherri's Configuration</th>\n",
       "      <td>7.17674</td>\n",
       "      <td>3.21796</td>\n",
       "      <td>54.9446</td>\n",
       "      <td>6.39778</td>\n",
       "      <td>8.23228</td>\n",
       "      <td>6.08339</td>\n",
       "      <td>1963.6</td>\n",
       "      <td>0.00012</td>\n",
       "      <td>48.3303</td>\n",
       "      <td>639.764</td>\n",
       "      <td>...</td>\n",
       "      <td>8438.52</td>\n",
       "      <td>9.32395</td>\n",
       "      <td>1026.69</td>\n",
       "      <td>54.9446</td>\n",
       "      <td>56.905</td>\n",
       "      <td>65.228</td>\n",
       "      <td>53.3712</td>\n",
       "      <td>0.220453</td>\n",
       "      <td>109.164</td>\n",
       "      <td>25.3731</td>\n",
       "    </tr>\n",
       "  </tbody>\n",
       "</table>\n",
       "<p>1 rows × 67 columns</p>\n",
       "</div>"
      ],
      "text/plain": [
       "                           Ssu      Saa      Sfa      Sva      Sbu     Spro   \\\n",
       "Sherri's Configuration  7.17674  3.21796  54.9446  6.39778  8.23228  6.08339   \n",
       "\n",
       "                          Sac      Sh2     Sch4      Sic   ...     Alk   \\\n",
       "Sherri's Configuration  1963.6  0.00012  48.3303  639.764  ...  8438.52   \n",
       "\n",
       "                           NH3      NH4     LCFA    percentch4    energych4   \\\n",
       "Sherri's Configuration  9.32395  1026.69  54.9446        56.905       65.228   \n",
       "\n",
       "                        efficiency   VFA/ALK      ACN  sampleT  \n",
       "Sherri's Configuration     53.3712  0.220453  109.164  25.3731  \n",
       "\n",
       "[1 rows x 67 columns]"
      ]
     },
     "execution_count": 10,
     "metadata": {},
     "output_type": "execute_result"
    }
   ],
   "source": [
    "# output using default configuration\n",
    "ls_default = adm1fu.reactor1(**config_default).tolist()\n",
    "df_default = pd.DataFrame(data = [ls_default],columns=output_name, index=['Sherri\\'s Configuration'])\n",
    "df_default"
   ]
  },
  {
   "cell_type": "markdown",
   "metadata": {},
   "source": [
    "#### Configuration 1"
   ]
  },
  {
   "cell_type": "code",
   "execution_count": 11,
   "metadata": {
    "ExecuteTime": {
     "end_time": "2020-09-22T22:44:14.308216Z",
     "start_time": "2020-09-22T22:44:13.579557Z"
    }
   },
   "outputs": [
    {
     "name": "stdout",
     "output_type": "stream",
     "text": [
      "Reactor run, phase-one:\n",
      "$ADM1F_EXE  -Vliq 340 -t_resx 1.5 -influent_file influent_cur.dat\n",
      "indicator-051.out\n"
     ]
    },
    {
     "data": {
      "text/html": [
       "<div>\n",
       "<style scoped>\n",
       "    .dataframe tbody tr th:only-of-type {\n",
       "        vertical-align: middle;\n",
       "    }\n",
       "\n",
       "    .dataframe tbody tr th {\n",
       "        vertical-align: top;\n",
       "    }\n",
       "\n",
       "    .dataframe thead th {\n",
       "        text-align: right;\n",
       "    }\n",
       "</style>\n",
       "<table border=\"1\" class=\"dataframe\">\n",
       "  <thead>\n",
       "    <tr style=\"text-align: right;\">\n",
       "      <th></th>\n",
       "      <th>Ssu</th>\n",
       "      <th>Saa</th>\n",
       "      <th>Sfa</th>\n",
       "      <th>Sva</th>\n",
       "      <th>Sbu</th>\n",
       "      <th>Spro</th>\n",
       "      <th>Sac</th>\n",
       "      <th>Sh2</th>\n",
       "      <th>Sch4</th>\n",
       "      <th>Sic</th>\n",
       "      <th>...</th>\n",
       "      <th>Alk</th>\n",
       "      <th>NH3</th>\n",
       "      <th>NH4</th>\n",
       "      <th>LCFA</th>\n",
       "      <th>percentch4</th>\n",
       "      <th>energych4</th>\n",
       "      <th>efficiency</th>\n",
       "      <th>VFA/ALK</th>\n",
       "      <th>ACN</th>\n",
       "      <th>sampleT</th>\n",
       "    </tr>\n",
       "  </thead>\n",
       "  <tbody>\n",
       "    <tr>\n",
       "      <th>Phase 1 Configuration</th>\n",
       "      <td>80.5616</td>\n",
       "      <td>33.4704</td>\n",
       "      <td>7808.75</td>\n",
       "      <td>2598.14</td>\n",
       "      <td>4246.87</td>\n",
       "      <td>3285.25</td>\n",
       "      <td>9696.05</td>\n",
       "      <td>28.5069</td>\n",
       "      <td>9.600970e-30</td>\n",
       "      <td>147.214</td>\n",
       "      <td>...</td>\n",
       "      <td>60316.4</td>\n",
       "      <td>0.048011</td>\n",
       "      <td>1145.6</td>\n",
       "      <td>7808.75</td>\n",
       "      <td>4.182560e-30</td>\n",
       "      <td>104.203</td>\n",
       "      <td>-104.737</td>\n",
       "      <td>0.308161</td>\n",
       "      <td>1.722550e-17</td>\n",
       "      <td>0.550162</td>\n",
       "    </tr>\n",
       "  </tbody>\n",
       "</table>\n",
       "<p>1 rows × 67 columns</p>\n",
       "</div>"
      ],
      "text/plain": [
       "                          Ssu      Saa      Sfa      Sva      Sbu     Spro   \\\n",
       "Phase 1 Configuration  80.5616  33.4704  7808.75  2598.14  4246.87  3285.25   \n",
       "\n",
       "                          Sac      Sh2          Sch4      Sic   ...     Alk   \\\n",
       "Phase 1 Configuration  9696.05  28.5069  9.600970e-30  147.214  ...  60316.4   \n",
       "\n",
       "                           NH3     NH4     LCFA    percentch4    energych4   \\\n",
       "Phase 1 Configuration  0.048011  1145.6  7808.75  4.182560e-30      104.203   \n",
       "\n",
       "                       efficiency   VFA/ALK           ACN   sampleT  \n",
       "Phase 1 Configuration    -104.737  0.308161  1.722550e-17  0.550162  \n",
       "\n",
       "[1 rows x 67 columns]"
      ]
     },
     "execution_count": 11,
     "metadata": {},
     "output_type": "execute_result"
    }
   ],
   "source": [
    "# output using configuration 1\n",
    "ls_config1 = adm1fu.reactor1(**config1).tolist()\n",
    "df_config1 = pd.DataFrame(data = [ls_config1],columns=output_name, index=['Phase 1 Configuration'])\n",
    "df_config1"
   ]
  },
  {
   "cell_type": "markdown",
   "metadata": {},
   "source": [
    "#### Configuration 2"
   ]
  },
  {
   "cell_type": "code",
   "execution_count": 12,
   "metadata": {
    "ExecuteTime": {
     "end_time": "2020-09-22T22:44:18.309478Z",
     "start_time": "2020-09-22T22:44:17.238137Z"
    }
   },
   "outputs": [
    {
     "name": "stdout",
     "output_type": "stream",
     "text": [
      "Reactor run, phase-one:\n",
      "$ADM1F_EXE  -Vliq 3400 -t_resx 700 -influent_file influent_cur.dat\n",
      "indicator-025.out\n"
     ]
    },
    {
     "data": {
      "text/html": [
       "<div>\n",
       "<style scoped>\n",
       "    .dataframe tbody tr th:only-of-type {\n",
       "        vertical-align: middle;\n",
       "    }\n",
       "\n",
       "    .dataframe tbody tr th {\n",
       "        vertical-align: top;\n",
       "    }\n",
       "\n",
       "    .dataframe thead th {\n",
       "        text-align: right;\n",
       "    }\n",
       "</style>\n",
       "<table border=\"1\" class=\"dataframe\">\n",
       "  <thead>\n",
       "    <tr style=\"text-align: right;\">\n",
       "      <th></th>\n",
       "      <th>Ssu</th>\n",
       "      <th>Saa</th>\n",
       "      <th>Sfa</th>\n",
       "      <th>Sva</th>\n",
       "      <th>Sbu</th>\n",
       "      <th>Spro</th>\n",
       "      <th>Sac</th>\n",
       "      <th>Sh2</th>\n",
       "      <th>Sch4</th>\n",
       "      <th>Sic</th>\n",
       "      <th>...</th>\n",
       "      <th>Alk</th>\n",
       "      <th>NH3</th>\n",
       "      <th>NH4</th>\n",
       "      <th>LCFA</th>\n",
       "      <th>percentch4</th>\n",
       "      <th>energych4</th>\n",
       "      <th>efficiency</th>\n",
       "      <th>VFA/ALK</th>\n",
       "      <th>ACN</th>\n",
       "      <th>sampleT</th>\n",
       "    </tr>\n",
       "  </thead>\n",
       "  <tbody>\n",
       "    <tr>\n",
       "      <th>Phase 2 Configuration</th>\n",
       "      <td>2.70068</td>\n",
       "      <td>1.20723</td>\n",
       "      <td>19.0168</td>\n",
       "      <td>2.34856</td>\n",
       "      <td>3.01652</td>\n",
       "      <td>2.16597</td>\n",
       "      <td>1125.18</td>\n",
       "      <td>0.000045</td>\n",
       "      <td>75.1774</td>\n",
       "      <td>952.376</td>\n",
       "      <td>...</td>\n",
       "      <td>21574.7</td>\n",
       "      <td>14.7549</td>\n",
       "      <td>1186.64</td>\n",
       "      <td>19.0168</td>\n",
       "      <td>58.194</td>\n",
       "      <td>255.569</td>\n",
       "      <td>-899.833</td>\n",
       "      <td>0.049221</td>\n",
       "      <td>3302.96</td>\n",
       "      <td>5.50162</td>\n",
       "    </tr>\n",
       "  </tbody>\n",
       "</table>\n",
       "<p>1 rows × 67 columns</p>\n",
       "</div>"
      ],
      "text/plain": [
       "                          Ssu      Saa      Sfa      Sva      Sbu     Spro   \\\n",
       "Phase 2 Configuration  2.70068  1.20723  19.0168  2.34856  3.01652  2.16597   \n",
       "\n",
       "                          Sac       Sh2     Sch4      Sic   ...     Alk   \\\n",
       "Phase 2 Configuration  1125.18  0.000045  75.1774  952.376  ...  21574.7   \n",
       "\n",
       "                          NH3      NH4     LCFA    percentch4    energych4   \\\n",
       "Phase 2 Configuration  14.7549  1186.64  19.0168        58.194      255.569   \n",
       "\n",
       "                       efficiency   VFA/ALK      ACN  sampleT  \n",
       "Phase 2 Configuration    -899.833  0.049221  3302.96  5.50162  \n",
       "\n",
       "[1 rows x 67 columns]"
      ]
     },
     "execution_count": 12,
     "metadata": {},
     "output_type": "execute_result"
    }
   ],
   "source": [
    "# output using configuration 2\n",
    "ls_config2 = adm1fu.reactor1(**config2).tolist()\n",
    "df_config2 = pd.DataFrame(data = [ls_config2],columns=output_name, index=['Phase 2 Configuration'])\n",
    "df_config2"
   ]
  },
  {
   "cell_type": "markdown",
   "metadata": {},
   "source": [
    "### Two-Phase anaerobic dynamic membrane bioreactor\n",
    "\n",
    "To simulate a novel two-phase AnDMBR, We can call the function `reactor2` with different Q1 (phase 1 flow rate), Q2 (phase 2 flow rate, normally equal to Q1), Vliq1 (phase 1 volume), Vliq2 (phase 2 volume), t_resx1 (SRT-HRT for phase 1), and t_resx2 (SRT-HRT for phase 1) values. In this function, the model output from phase 1 will be extracted and converted to the model input for phase 2. The function will return phase1 output and phase2 output\n",
    "\n",
    "Usage example: reactor2(Q1=100,  t_resx1=30, t_resx2=100, Vliq1=300, Vliq2=3000) "
   ]
  },
  {
   "cell_type": "code",
   "execution_count": 13,
   "metadata": {},
   "outputs": [
    {
     "name": "stdout",
     "output_type": "stream",
     "text": [
      "Schematics of the two-phase reactor\n"
     ]
    },
    {
     "data": {
      "image/png": "[encoded data removed]",
      "text/plain": [
       "<IPython.core.display.Image object>"
      ]
     },
     "execution_count": 13,
     "metadata": {},
     "output_type": "execute_result"
    }
   ],
   "source": [
    "from IPython.display import Image\n",
    "print ('Schematics of the two-phase reactor')\n",
    "Image(filename='../docs/_static/images/2phase_reactor.png')"
   ]
  },
  {
   "cell_type": "markdown",
   "metadata": {},
   "source": [
    "#### Config12"
   ]
  },
  {
   "cell_type": "markdown",
   "metadata": {},
   "source": [
    "**Configurations**\n",
    "\n",
    "| Configuration |  Vliq (m$^3$) | t\\_resx (d) | Q (m$^3$/d)|  \n",
    "| ------ | ------ | ------ | ------|\n",
    "Sherri's | 3400 | 0 | 134 |\n",
    "Phase 1 | 340 | 1.5 | 618 |\n",
    "Phase 2 | 3400 | 700 | 618/--- |\n",
    "\n",
    "where t\\_resx = SRT - HRT"
   ]
  },
  {
   "cell_type": "code",
   "execution_count": 14,
   "metadata": {
    "ExecuteTime": {
     "end_time": "2020-09-22T22:45:08.804996Z",
     "start_time": "2020-09-22T22:45:08.799762Z"
    }
   },
   "outputs": [],
   "source": [
    "# config12 = {\"Vliq1\":340, \"Vliq2\":3400, \"t_resx1\":1.5, \"t_resx2\":700, \"Q1\":618, \"Q2\":618}\n",
    "config12 = {\"Vliq1\":340, \"Vliq2\":3400, \"t_resx1\":1.5, \"t_resx2\":700, \"Q1\":618}"
   ]
  },
  {
   "cell_type": "code",
   "execution_count": 15,
   "metadata": {},
   "outputs": [
    {
     "name": "stdout",
     "output_type": "stream",
     "text": [
      "Reactor run, phase-one:\n",
      "$ADM1F_EXE  -Vliq 340 -t_resx 1.5 -influent_file influent_cur.dat\n",
      "indicator-051.out\n",
      "Reactor run, phase-two:\n",
      "$ADM1F_EXE -Vliq 3400 -t_resx 700 -influent_file influent_cur.dat\n",
      "indicator-024.out\n"
     ]
    }
   ],
   "source": [
    "result_config12 = adm1fu.reactor2(**config12)"
   ]
  },
  {
   "cell_type": "code",
   "execution_count": 16,
   "metadata": {
    "ExecuteTime": {
     "end_time": "2020-09-22T22:45:19.563151Z",
     "start_time": "2020-09-22T22:45:17.365242Z"
    }
   },
   "outputs": [
    {
     "name": "stdout",
     "output_type": "stream",
     "text": [
      "Reactor run, phase-one:\n",
      "$ADM1F_EXE  -Vliq 340 -t_resx 1.5 -influent_file influent_cur.dat\n",
      "indicator-051.out\n",
      "Reactor run, phase-two:\n",
      "$ADM1F_EXE -Vliq 3400 -t_resx 700 -influent_file influent_cur.dat\n",
      "indicator-024.out\n"
     ]
    },
    {
     "data": {
      "text/html": [
       "<div>\n",
       "<style scoped>\n",
       "    .dataframe tbody tr th:only-of-type {\n",
       "        vertical-align: middle;\n",
       "    }\n",
       "\n",
       "    .dataframe tbody tr th {\n",
       "        vertical-align: top;\n",
       "    }\n",
       "\n",
       "    .dataframe thead th {\n",
       "        text-align: right;\n",
       "    }\n",
       "</style>\n",
       "<table border=\"1\" class=\"dataframe\">\n",
       "  <thead>\n",
       "    <tr style=\"text-align: right;\">\n",
       "      <th></th>\n",
       "      <th>Ssu</th>\n",
       "      <th>Saa</th>\n",
       "      <th>Sfa</th>\n",
       "      <th>Sva</th>\n",
       "      <th>Sbu</th>\n",
       "      <th>Spro</th>\n",
       "      <th>Sac</th>\n",
       "      <th>Sh2</th>\n",
       "      <th>Sch4</th>\n",
       "      <th>Sic</th>\n",
       "      <th>...</th>\n",
       "      <th>Alk</th>\n",
       "      <th>NH3</th>\n",
       "      <th>NH4</th>\n",
       "      <th>LCFA</th>\n",
       "      <th>percentch4</th>\n",
       "      <th>energych4</th>\n",
       "      <th>efficiency</th>\n",
       "      <th>VFA/ALK</th>\n",
       "      <th>ACN</th>\n",
       "      <th>sampleT</th>\n",
       "    </tr>\n",
       "  </thead>\n",
       "  <tbody>\n",
       "    <tr>\n",
       "      <th>Phase1</th>\n",
       "      <td>80.561600</td>\n",
       "      <td>33.470400</td>\n",
       "      <td>7808.7500</td>\n",
       "      <td>2598.14000</td>\n",
       "      <td>4246.87000</td>\n",
       "      <td>3285.25000</td>\n",
       "      <td>9696.05</td>\n",
       "      <td>28.506900</td>\n",
       "      <td>9.371060e-31</td>\n",
       "      <td>147.214</td>\n",
       "      <td>...</td>\n",
       "      <td>60316.4</td>\n",
       "      <td>0.048011</td>\n",
       "      <td>1145.6</td>\n",
       "      <td>7808.7500</td>\n",
       "      <td>4.082390e-31</td>\n",
       "      <td>104.203</td>\n",
       "      <td>-104.737</td>\n",
       "      <td>0.308161</td>\n",
       "      <td>5.381270e-18</td>\n",
       "      <td>0.550162</td>\n",
       "    </tr>\n",
       "    <tr>\n",
       "      <th>Phase2</th>\n",
       "      <td>0.355681</td>\n",
       "      <td>0.132504</td>\n",
       "      <td>19.2757</td>\n",
       "      <td>2.37729</td>\n",
       "      <td>3.05196</td>\n",
       "      <td>2.19399</td>\n",
       "      <td>1248.96</td>\n",
       "      <td>0.000046</td>\n",
       "      <td>7.114040e+01</td>\n",
       "      <td>867.356</td>\n",
       "      <td>...</td>\n",
       "      <td>17101.8</td>\n",
       "      <td>15.289200</td>\n",
       "      <td>1139.4</td>\n",
       "      <td>19.2757</td>\n",
       "      <td>6.198330e+01</td>\n",
       "      <td>192.277</td>\n",
       "      <td>-590.307</td>\n",
       "      <td>0.068884</td>\n",
       "      <td>-2.807000e+01</td>\n",
       "      <td>6.241160</td>\n",
       "    </tr>\n",
       "  </tbody>\n",
       "</table>\n",
       "<p>2 rows × 67 columns</p>\n",
       "</div>"
      ],
      "text/plain": [
       "             Ssu        Saa        Sfa         Sva         Sbu        Spro   \\\n",
       "Phase1  80.561600  33.470400  7808.7500  2598.14000  4246.87000  3285.25000   \n",
       "Phase2   0.355681   0.132504    19.2757     2.37729     3.05196     2.19399   \n",
       "\n",
       "           Sac        Sh2          Sch4      Sic   ...     Alk        NH3   \\\n",
       "Phase1  9696.05  28.506900  9.371060e-31  147.214  ...  60316.4   0.048011   \n",
       "Phase2  1248.96   0.000046  7.114040e+01  867.356  ...  17101.8  15.289200   \n",
       "\n",
       "          NH4       LCFA    percentch4    energych4   efficiency   VFA/ALK  \\\n",
       "Phase1  1145.6  7808.7500  4.082390e-31      104.203    -104.737  0.308161   \n",
       "Phase2  1139.4    19.2757  6.198330e+01      192.277    -590.307  0.068884   \n",
       "\n",
       "                 ACN   sampleT  \n",
       "Phase1  5.381270e-18  0.550162  \n",
       "Phase2 -2.807000e+01  6.241160  \n",
       "\n",
       "[2 rows x 67 columns]"
      ]
     },
     "execution_count": 16,
     "metadata": {},
     "output_type": "execute_result"
    }
   ],
   "source": [
    "# output using config12\n",
    "result_config12 = adm1fu.reactor2(**config12)\n",
    "ls1_config12 = result_config12[0].tolist()\n",
    "ls2_config12 = result_config12[1].tolist()\n",
    "\n",
    "df_config12 = pd.DataFrame(data = [ls1_config12],columns=output_name,index=['Phase1'])\n",
    "df_config12.loc['Phase2'] = ls2_config12\n",
    "df_config12"
   ]
  },
  {
   "cell_type": "code",
   "execution_count": null,
   "metadata": {},
   "outputs": [],
   "source": []
  }
 ],
 "metadata": {
  "kernelspec": {
   "display_name": "Python 3",
   "language": "python",
   "name": "python3"
  },
  "language_info": {
   "codemirror_mode": {
    "name": "ipython",
    "version": 3
   },
   "file_extension": ".py",
   "mimetype": "text/x-python",
   "name": "python",
   "nbconvert_exporter": "python",
   "pygments_lexer": "ipython3",
   "version": "3.8.5"
  },
  "toc": {
   "base_numbering": 1,
   "nav_menu": {},
   "number_sections": true,
   "sideBar": true,
   "skip_h1_title": false,
   "title_cell": "Table of Contents",
   "title_sidebar": "Contents",
   "toc_cell": false,
   "toc_position": {
    "height": "calc(100% - 180px)",
    "left": "10px",
    "top": "150px",
    "width": "217px"
   },
   "toc_section_display": true,
   "toc_window_display": true
  }
 },
 "nbformat": 4,
 "nbformat_minor": 2
}
